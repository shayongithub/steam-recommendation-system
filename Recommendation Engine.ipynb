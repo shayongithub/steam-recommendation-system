{
 "cells": [
  {
   "cell_type": "code",
   "execution_count": 1,
   "id": "personal-fireplace",
   "metadata": {},
   "outputs": [],
   "source": [
    "import pandas as pd\n",
    "import numpy as np\n",
    "from sklearn.metrics.pairwise import cosine_similarity\n",
    "from sklearn.feature_extraction.text import CountVectorizer"
   ]
  },
  {
   "cell_type": "code",
   "execution_count": 2,
   "id": "disturbed-howard",
   "metadata": {},
   "outputs": [],
   "source": [
    "# Store data\n",
    "df = pd.read_csv(\"products.csv\")\n",
    "df = df.rename(columns={'a_name':'Name', 'b_date':'Date', 'c_os':'OS','d_origin_price':'Price','e_discount':'Discount','f_n_reviews':'No. of Review','g_percent_positive':'Positive %'})\n",
    "df.insert(0, 'Game_id', range(0, 0 + len(df)))"
   ]
  },
  {
   "cell_type": "code",
   "execution_count": 3,
   "id": "stretch-alexandria",
   "metadata": {},
   "outputs": [],
   "source": [
    "# Important feature combination for recommendation\n",
    "columns = ['Name','No. of Review','Positive %']"
   ]
  },
  {
   "cell_type": "code",
   "execution_count": 4,
   "id": "orange-tender",
   "metadata": {},
   "outputs": [
    {
     "data": {
      "text/plain": [
       "False"
      ]
     },
     "execution_count": 4,
     "metadata": {},
     "output_type": "execute_result"
    }
   ],
   "source": [
    "# Check missing value of important data\n",
    "df[columns].isnull().values.any() \n",
    "# No missing value"
   ]
  },
  {
   "cell_type": "code",
   "execution_count": 5,
   "id": "tough-supervision",
   "metadata": {},
   "outputs": [],
   "source": [
    "# Get important feature and combine into a string\n",
    "def get_important_features(data):\n",
    "    important_features = []\n",
    "    for i in range(0, data.shape[0]):\n",
    "        important_features.append(data['Name'][i]+' '+data['No. of Review'][i]+' '+data['Positive %'][i])\n",
    "    return important_features"
   ]
  },
  {
   "cell_type": "code",
   "execution_count": 6,
   "id": "twenty-occasion",
   "metadata": {},
   "outputs": [],
   "source": [
    "df['important_features'] = get_important_features(df)\n",
    "def recommend_game(name):\n",
    "    # Convert text to matrix of token count\n",
    "    cm = CountVectorizer().fit_transform(df['important_features'])\n",
    "    \n",
    "    #Get cousine similarity\n",
    "    cs = cosine_similarity(cm)\n",
    "    game_id = df[df.Name == name]['Game_id'].values[0]\n",
    "    \n",
    "    # Create list of tuple of Game_id and similarity score\n",
    "    sorces = list(enumerate(cs[game_id]))\n",
    "    \n",
    "    # Sort similarity scores from highest to lowest\n",
    "    sorted_score = sorted(sorces, key = lambda x:x[1], reverse = True)\n",
    "    sorted_score = sorted_score[1:]\n",
    "    # Recommended 10 game\n",
    "    j = 1\n",
    "    for item in sorted_score:\n",
    "        game = df[df.Game_id == item[0]]['Name'].values[0]\n",
    "        simi_score = item[1]\n",
    "        print(j,game,\":\",simi_score)\n",
    "        j = j + 1\n",
    "        if j>10:\n",
    "            break"
   ]
  },
  {
   "cell_type": "code",
   "execution_count": 7,
   "id": "parental-theme",
   "metadata": {},
   "outputs": [
    {
     "name": "stdout",
     "output_type": "stream",
     "text": [
      "1 Chernobylite : 0.5773502691896258\n",
      "2 Moonlighter : 0.2886751345948129\n",
      "3 Othercide : 0.2886751345948129\n",
      "4 Ruinarch : 0.2886751345948129\n",
      "5 SURV1V3 : 0.2886751345948129\n",
      "6 KartKraft™ : 0.2886751345948129\n",
      "7 AGAINST : 0.2886751345948129\n",
      "8 Silence : 0.2886751345948129\n",
      "9 Succumate : 0.2886751345948129\n",
      "10 RIDE 3 : 0.2886751345948129\n"
     ]
    }
   ],
   "source": [
    "#Example: User like game \"Dota 2\", recommending game like \"Dota 2\"\n",
    "recommend_game(\"Dota 2\")"
   ]
  }
 ],
 "metadata": {
  "kernelspec": {
   "display_name": "Python 3",
   "language": "python",
   "name": "python3"
  },
  "language_info": {
   "codemirror_mode": {
    "name": "ipython",
    "version": 3
   },
   "file_extension": ".py",
   "mimetype": "text/x-python",
   "name": "python",
   "nbconvert_exporter": "python",
   "pygments_lexer": "ipython3",
   "version": "3.8.5"
  }
 },
 "nbformat": 4,
 "nbformat_minor": 5
}
